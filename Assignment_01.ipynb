{
  "cells": [
    {
      "cell_type": "markdown",
      "metadata": {
        "id": "view-in-github",
        "colab_type": "text"
      },
      "source": [
        "<a href=\"https://colab.research.google.com/github/Aayush-Khatri-12/Python_basics_assignment-01/blob/main/Assignment_01.ipynb\" target=\"_parent\"><img src=\"https://colab.research.google.com/assets/colab-badge.svg\" alt=\"Open In Colab\"/></a>"
      ]
    },
    {
      "cell_type": "markdown",
      "metadata": {
        "id": "o-3lSxBWnbBN"
      },
      "source": [
        "# Question1 L is a list defined as L= [11, 12, 13, 14].\n",
        "\n",
        "(i) WAP to add 50 and 60 to L.\n",
        "\n",
        "(ii) WAP to remove 11 and 13from L.\n",
        "\n",
        "(iii) WAP to sort L in ascending order.\n",
        "\n",
        "(iv) WAP to sort L in descending order.\n",
        "\n",
        "(v) WAP to search for 13 in L.\n",
        "\n",
        "(vi) WAP to count the number of elements present in L.\n",
        "\n",
        "(vii) WAP to sum all the elements in L.\n",
        "\n",
        "(viii) WAP to sum all ODD numbers in L.\n",
        "\n",
        "(ix) WAP to sum all EVEN numbers in L.\n",
        "\n",
        "(x) WAP to sum all PRIME numbers in L.\n",
        "\n",
        "(xi) WAP to clear all the elements in L.\n",
        "\n",
        "(xii) WAP to delete L."
      ]
    },
    {
      "cell_type": "code",
      "execution_count": null,
      "metadata": {
        "colab": {
          "base_uri": "https://localhost:8080/"
        },
        "id": "Hx2yTBiqnezl",
        "outputId": "4f208f3b-f2e0-4f6b-b3b2-8dc5805eb4c4"
      },
      "outputs": [
        {
          "output_type": "stream",
          "name": "stdout",
          "text": [
            "[11, 12, 13, 14, 50, 60]\n"
          ]
        }
      ],
      "source": [
        "L=[11,12,13,14]\n",
        "L.append(50)\n",
        "L.append(60)\n",
        "print(L)"
      ]
    },
    {
      "cell_type": "code",
      "execution_count": null,
      "metadata": {
        "colab": {
          "base_uri": "https://localhost:8080/"
        },
        "id": "D0f0m9LmpopL",
        "outputId": "bfb6253f-b50b-4cc1-e300-63231992157f"
      },
      "outputs": [
        {
          "output_type": "stream",
          "name": "stdout",
          "text": [
            "[12, 13, 14, 50, 60]\n",
            "[12, 14, 50, 60]\n"
          ]
        }
      ],
      "source": [
        "del L[0]\n",
        "print(L)\n",
        "del L[1]\n",
        "print(L)"
      ]
    },
    {
      "cell_type": "code",
      "execution_count": null,
      "metadata": {
        "colab": {
          "base_uri": "https://localhost:8080/"
        },
        "id": "XPqVjw-6p-rP",
        "outputId": "5ffe2089-d932-4f1d-e44f-386d0fa59d3d"
      },
      "outputs": [
        {
          "output_type": "stream",
          "name": "stdout",
          "text": [
            "[12, 14, 50, 60]\n"
          ]
        }
      ],
      "source": [
        "L.sort()\n",
        "print(L)"
      ]
    },
    {
      "cell_type": "code",
      "execution_count": null,
      "metadata": {
        "colab": {
          "base_uri": "https://localhost:8080/"
        },
        "id": "cejtZo7JqQ8e",
        "outputId": "78db78f5-35cb-460e-ea3a-169fc11c1585"
      },
      "outputs": [
        {
          "output_type": "stream",
          "name": "stdout",
          "text": [
            "[60, 50, 14, 12]\n"
          ]
        }
      ],
      "source": [
        "L.sort(reverse=True)\n",
        "print(L)"
      ]
    },
    {
      "cell_type": "code",
      "source": [
        "if(13 in L)==True:\n",
        "  print(True)\n",
        "else:\n",
        "  print(False)"
      ],
      "metadata": {
        "colab": {
          "base_uri": "https://localhost:8080/"
        },
        "id": "wfYYlJbSqqwN",
        "outputId": "59dd4f9d-4752-438d-f078-474e4645cba1"
      },
      "execution_count": null,
      "outputs": [
        {
          "output_type": "stream",
          "name": "stdout",
          "text": [
            "False\n"
          ]
        }
      ]
    },
    {
      "cell_type": "code",
      "source": [
        "print(\"no. of elements in L -->\",len(L))"
      ],
      "metadata": {
        "colab": {
          "base_uri": "https://localhost:8080/"
        },
        "id": "ipI6K62irBpz",
        "outputId": "82d4c226-565f-4f53-eb21-9beed06318e3"
      },
      "execution_count": null,
      "outputs": [
        {
          "output_type": "stream",
          "name": "stdout",
          "text": [
            "no. of elements in L --> 4\n"
          ]
        }
      ]
    },
    {
      "cell_type": "code",
      "source": [
        "sum=0\n",
        "for i in range(len(L)):\n",
        "  sum+=L[i]\n",
        "print(\"sum all the elements in L -->\", sum)"
      ],
      "metadata": {
        "colab": {
          "base_uri": "https://localhost:8080/"
        },
        "id": "t7KqtbLKrcJt",
        "outputId": "ad9ba017-2ad4-451e-a362-08e11a8143a0"
      },
      "execution_count": null,
      "outputs": [
        {
          "output_type": "stream",
          "name": "stdout",
          "text": [
            "sum all the elements in L --> 136\n"
          ]
        }
      ]
    },
    {
      "cell_type": "code",
      "source": [
        "oddsum=0\n",
        "for i in range(len(L)):\n",
        "  if (L[i]%2)!=0:\n",
        "    oddsum+=L[i]\n",
        "print(\"sum all odd elements in L -->\", oddsum)"
      ],
      "metadata": {
        "colab": {
          "base_uri": "https://localhost:8080/"
        },
        "id": "0Qg6IoTCsETr",
        "outputId": "1da6a51e-becf-48c2-e83d-3d41309515da"
      },
      "execution_count": null,
      "outputs": [
        {
          "output_type": "stream",
          "name": "stdout",
          "text": [
            "sum all odd elements in L --> 0\n"
          ]
        }
      ]
    },
    {
      "cell_type": "code",
      "source": [
        "evensum=0\n",
        "for i in range(len(L)):\n",
        "  if (L[i]%2)==0:\n",
        "    evensum+=L[i]\n",
        "print(\"sum all even elements in L -->\", evensum)"
      ],
      "metadata": {
        "colab": {
          "base_uri": "https://localhost:8080/"
        },
        "id": "gzL2-TBGsX5y",
        "outputId": "db6af96d-58b5-40f5-b346-6cabe8125261"
      },
      "execution_count": null,
      "outputs": [
        {
          "output_type": "stream",
          "name": "stdout",
          "text": [
            "sum all even elements in L --> 136\n"
          ]
        }
      ]
    },
    {
      "cell_type": "code",
      "source": [
        "L.append(17);\n",
        "L.append(19);\n",
        "print(L);\n",
        "primeSum=0\n",
        "flag=True;\n",
        "for i in range(len(L)):\n",
        "  flag=True\n",
        "  for j in range(2,(L[i]//2) + 1):\n",
        "    if(L[i]%j)==0:\n",
        "      flag=False;\n",
        "      break\n",
        "  if flag==True:\n",
        "    primeSum+=L[i];\n",
        "print(\"sum all PRIME numbers --> \",primeSum)\n",
        "del L[-1];\n",
        "del L[-1];\n",
        "print(L);"
      ],
      "metadata": {
        "colab": {
          "base_uri": "https://localhost:8080/"
        },
        "id": "A-ok6jXKswv8",
        "outputId": "a3c1ec3c-cfc7-4eff-822d-69037180185e"
      },
      "execution_count": null,
      "outputs": [
        {
          "output_type": "stream",
          "name": "stdout",
          "text": [
            "[60, 50, 14, 12, 17, 19]\n",
            "sum all PRIME numbers -->  36\n",
            "[60, 50, 14, 12]\n"
          ]
        }
      ]
    },
    {
      "cell_type": "code",
      "source": [
        "L.clear()\n",
        "print(L)"
      ],
      "metadata": {
        "colab": {
          "base_uri": "https://localhost:8080/"
        },
        "id": "xX5S5mvgvbMx",
        "outputId": "bece0d54-7e61-4790-ec31-7492a5284b90"
      },
      "execution_count": null,
      "outputs": [
        {
          "output_type": "stream",
          "name": "stdout",
          "text": [
            "[]\n"
          ]
        }
      ]
    },
    {
      "cell_type": "code",
      "source": [
        "del L"
      ],
      "metadata": {
        "id": "qt6Rl_mHvhJi"
      },
      "execution_count": null,
      "outputs": []
    },
    {
      "cell_type": "markdown",
      "source": [
        "# Q2. D is a dictionary defined as D= {1:5.6, 2:7.8, 3:6.6, 4:8.7, 5:7.7}.\n",
        "\n",
        "(i) WAP to add new entry in D; key=8 and value is 8.8\n",
        "\n",
        "(ii) WAP to remove key=2.\n",
        "\n",
        "(iii) WAP to check weather 6 key is present in D.\n",
        "\n",
        "(iv) WAP to count the number of elements present in D.\n",
        "\n",
        "(v) WAP to add all the values present D.\n",
        "\n",
        "(vi) WAP to update the value of 3 to 7.1.\n",
        "\n",
        "(vii) WAP to clear the dictionary."
      ],
      "metadata": {
        "id": "sN4F_Cu7wVGJ"
      }
    },
    {
      "cell_type": "code",
      "source": [
        "D={1:5.6, 2:7.8, 3:6.6, 4:8.7, 5:7.7}\n",
        "print(D)\n",
        "D[8]=8.8\n",
        "print(D)"
      ],
      "metadata": {
        "colab": {
          "base_uri": "https://localhost:8080/"
        },
        "id": "O-wUfEKcwjxD",
        "outputId": "f256d35c-8f37-4463-d11a-dcb56bb859d3"
      },
      "execution_count": null,
      "outputs": [
        {
          "output_type": "stream",
          "name": "stdout",
          "text": [
            "{1: 5.6, 2: 7.8, 3: 6.6, 4: 8.7, 5: 7.7}\n",
            "{1: 5.6, 2: 7.8, 3: 6.6, 4: 8.7, 5: 7.7, 8: 8.8}\n"
          ]
        }
      ]
    },
    {
      "cell_type": "code",
      "source": [
        "del D[2]\n",
        "print(D)"
      ],
      "metadata": {
        "colab": {
          "base_uri": "https://localhost:8080/"
        },
        "id": "nCG7bCwaw3od",
        "outputId": "f4da4d9c-f040-4702-bccc-a4f1f838eb8b"
      },
      "execution_count": null,
      "outputs": [
        {
          "output_type": "stream",
          "name": "stdout",
          "text": [
            "{1: 5.6, 3: 6.6, 4: 8.7, 5: 7.7, 8: 8.8}\n"
          ]
        }
      ]
    },
    {
      "cell_type": "code",
      "source": [
        "print(6 in D)"
      ],
      "metadata": {
        "colab": {
          "base_uri": "https://localhost:8080/"
        },
        "id": "2-aDuBNKxOOg",
        "outputId": "704a4e61-f6bb-4914-b9a5-0efef67ab89b"
      },
      "execution_count": null,
      "outputs": [
        {
          "output_type": "stream",
          "name": "stdout",
          "text": [
            "False\n"
          ]
        }
      ]
    },
    {
      "cell_type": "code",
      "source": [
        "print(\"number of elements --> \",len(D))"
      ],
      "metadata": {
        "colab": {
          "base_uri": "https://localhost:8080/"
        },
        "id": "aj5imHcpxq3Y",
        "outputId": "70b76e17-9f8a-4234-c274-dce511183b95"
      },
      "execution_count": null,
      "outputs": [
        {
          "output_type": "stream",
          "name": "stdout",
          "text": [
            "number of elements -->  5\n"
          ]
        }
      ]
    },
    {
      "cell_type": "code",
      "source": [
        "#M = list(D.values())\n",
        "#result_sum = sum(M)\n",
        "#print(result_sum)\n",
        "#won't work because already used sum as variable somewhere in code"
      ],
      "metadata": {
        "id": "eSKbYsuiDja3"
      },
      "execution_count": null,
      "outputs": []
    },
    {
      "cell_type": "code",
      "source": [
        "sum=0\n",
        "for i in D: # for i in D.values():\n",
        "  sum+=D[i] #   sum+=i\n",
        "print(\"sum all the elements in D -->\", sum)"
      ],
      "metadata": {
        "colab": {
          "base_uri": "https://localhost:8080/"
        },
        "id": "GmU6NarVyGMs",
        "outputId": "7e51b8d2-1fc4-4b8c-d061-f7309fd247bf"
      },
      "execution_count": null,
      "outputs": [
        {
          "output_type": "stream",
          "name": "stdout",
          "text": [
            "sum all the elements in D --> 45.2\n"
          ]
        }
      ]
    },
    {
      "cell_type": "code",
      "source": [
        "print(D)\n",
        "D[3]=7.1\n",
        "print(D)"
      ],
      "metadata": {
        "colab": {
          "base_uri": "https://localhost:8080/"
        },
        "id": "ZJls4_afziW9",
        "outputId": "8a7539dc-609e-4918-ce03-87414276aa67"
      },
      "execution_count": null,
      "outputs": [
        {
          "output_type": "stream",
          "name": "stdout",
          "text": [
            "{1: 5.6, 3: 6.6, 4: 8.7, 5: 7.7, 8: 8.8}\n",
            "{1: 5.6, 3: 7.1, 4: 8.7, 5: 7.7, 8: 8.8}\n"
          ]
        }
      ]
    },
    {
      "cell_type": "code",
      "source": [
        "D.clear()\n",
        "print(D)"
      ],
      "metadata": {
        "colab": {
          "base_uri": "https://localhost:8080/"
        },
        "id": "6g4p5z96zySn",
        "outputId": "6fd86916-9915-4dd6-fac2-8149f228f7fe"
      },
      "execution_count": null,
      "outputs": [
        {
          "output_type": "stream",
          "name": "stdout",
          "text": [
            "{}\n"
          ]
        }
      ]
    },
    {
      "cell_type": "markdown",
      "source": [
        "# Q3. S1 is a set defined as S1= [10, 20, 30, 40, 50, 60].\n",
        "# S2 is a set defined as S2= [40, 50, 60, 70, 80, 90].\n",
        "\n",
        "(i) WAP to add 55 and 66 in Set S1.\n",
        "\n",
        "(ii) WAP to remove 10 and 30 from Set S1.\n",
        "\n",
        "(iii) WAP to check whether 40 is present in S1.\n",
        "\n",
        "(iv) WAP to find the union between S1 and S2.\n",
        "\n",
        "(v) WAP to find the intersection between S1 and S2.\n",
        "\n",
        "(vi) WAP to find the S1 - S2."
      ],
      "metadata": {
        "id": "x9gM6Gjgz-0P"
      }
    },
    {
      "cell_type": "code",
      "source": [
        "S1=set([10, 20, 30, 40, 50, 60])\n",
        "S2=set([40, 50, 60, 70, 80, 90])\n",
        "S1.add(55)\n",
        "S1.add(66)\n",
        "print(S1)"
      ],
      "metadata": {
        "colab": {
          "base_uri": "https://localhost:8080/"
        },
        "id": "8MtQH5oK0TYZ",
        "outputId": "6ae9089b-611d-4e20-b662-32d30cd97ca2"
      },
      "execution_count": null,
      "outputs": [
        {
          "output_type": "stream",
          "name": "stdout",
          "text": [
            "{66, 40, 10, 50, 20, 55, 60, 30}\n"
          ]
        }
      ]
    },
    {
      "cell_type": "code",
      "source": [
        "S1.remove(10)\n",
        "S1.remove(30)\n",
        "print(S1)"
      ],
      "metadata": {
        "colab": {
          "base_uri": "https://localhost:8080/"
        },
        "id": "buokxyYh10Nx",
        "outputId": "c7594ecd-2ee8-448a-f8d3-623e66f405ed"
      },
      "execution_count": null,
      "outputs": [
        {
          "output_type": "stream",
          "name": "stdout",
          "text": [
            "{66, 40, 50, 20, 55, 60}\n"
          ]
        }
      ]
    },
    {
      "cell_type": "code",
      "source": [
        "print(40 in S1)"
      ],
      "metadata": {
        "colab": {
          "base_uri": "https://localhost:8080/"
        },
        "id": "8NnXdToA2oO8",
        "outputId": "7db0a80b-df97-49b0-a513-a2956a906f8d"
      },
      "execution_count": null,
      "outputs": [
        {
          "output_type": "stream",
          "name": "stdout",
          "text": [
            "True\n"
          ]
        }
      ]
    },
    {
      "cell_type": "code",
      "source": [
        "print(S1.union(S2))"
      ],
      "metadata": {
        "id": "WFCIFpsy2wfk",
        "colab": {
          "base_uri": "https://localhost:8080/"
        },
        "outputId": "f5cc9981-439a-4aa4-bc02-17ea306a39fa"
      },
      "execution_count": null,
      "outputs": [
        {
          "output_type": "stream",
          "name": "stdout",
          "text": [
            "{66, 70, 40, 80, 50, 20, 55, 90, 60}\n"
          ]
        }
      ]
    },
    {
      "cell_type": "code",
      "source": [
        "print(S1.intersection(S2))"
      ],
      "metadata": {
        "colab": {
          "base_uri": "https://localhost:8080/"
        },
        "id": "4R-ZoR_93Jef",
        "outputId": "bb62b58c-b242-4b4b-9dca-34cd0ce11d89"
      },
      "execution_count": null,
      "outputs": [
        {
          "output_type": "stream",
          "name": "stdout",
          "text": [
            "{40, 50, 60}\n"
          ]
        }
      ]
    },
    {
      "cell_type": "code",
      "source": [
        "print(S1-S2)"
      ],
      "metadata": {
        "colab": {
          "base_uri": "https://localhost:8080/"
        },
        "id": "mVu_fAky3wbd",
        "outputId": "0dbf6a2b-354f-4770-ad5a-581e84c548cc"
      },
      "execution_count": null,
      "outputs": [
        {
          "output_type": "stream",
          "name": "stdout",
          "text": [
            "{66, 20, 55}\n"
          ]
        }
      ]
    },
    {
      "cell_type": "markdown",
      "source": [
        "# Q4. Write the following program.\n",
        "\n",
        "(i) WAP to print 100 random strings whose length between 6 and 8.\n",
        "\n",
        "(ii) WAP to print all prime numbers between 600 and 800.\n",
        "\n",
        "(iii) WAP to print all numbers between 100 and 1000 that are divisible by 7 and 9."
      ],
      "metadata": {
        "id": "Vq2eHS753-R4"
      }
    },
    {
      "cell_type": "code",
      "source": [
        "import random as r\n",
        "import string as s\n",
        "for i in range(100):\n",
        "  n=r.randint(6,8)\n",
        "  randomStr=r.sample(s.ascii_letters,n)\n",
        "  print(\"\".join(randomStr))"
      ],
      "metadata": {
        "colab": {
          "base_uri": "https://localhost:8080/"
        },
        "id": "eFG8n7sl4Xm7",
        "outputId": "22e9d7f9-6151-4f77-d241-b02e4ad6d9a1"
      },
      "execution_count": null,
      "outputs": [
        {
          "output_type": "stream",
          "name": "stdout",
          "text": [
            "fCIXBoP\n",
            "EItsUwA\n",
            "gnOfNQs\n",
            "gGMEpw\n",
            "CFKHWMiB\n",
            "FsPRyEM\n",
            "uMhISjCl\n",
            "nDBepQ\n",
            "MuBaSED\n",
            "wSxgWa\n",
            "ydzWsu\n",
            "nzyUNTm\n",
            "VjmLhIG\n",
            "adtQEJU\n",
            "BtgzrEfb\n",
            "JCbFPV\n",
            "YsiQvM\n",
            "ZSePkdfi\n",
            "zYKsjxdF\n",
            "gKGlLA\n",
            "imokhF\n",
            "TWgHjzF\n",
            "NDlxBV\n",
            "VljfmxKZ\n",
            "tOLopZ\n",
            "EIpJOy\n",
            "lovZEY\n",
            "tbzJNYx\n",
            "BKUDArTh\n",
            "uFQYWp\n",
            "JDnrplT\n",
            "yOKzpn\n",
            "lnNOQs\n",
            "jbXlkT\n",
            "EqacHMFy\n",
            "ehLTHp\n",
            "JgOZoaWT\n",
            "FLzjhy\n",
            "RjdwqT\n",
            "kDaHinUq\n",
            "BtoxMvX\n",
            "tmcGAuI\n",
            "LjVUPAy\n",
            "ECFols\n",
            "piRcJW\n",
            "HVvLqzCk\n",
            "ymWOEHRv\n",
            "YdBHheR\n",
            "ujOomJYS\n",
            "hNZHtW\n",
            "GikhlR\n",
            "ECbvWpF\n",
            "pqmoSB\n",
            "wkoKZES\n",
            "tbnMOWy\n",
            "JLpihTBK\n",
            "fJjOwuGY\n",
            "NfzUvtK\n",
            "ELFHKZ\n",
            "WiYtCcQf\n",
            "gtjDkvYO\n",
            "demTlBD\n",
            "GMQmHKS\n",
            "SEylqkt\n",
            "IFZeDhPs\n",
            "bSmuecV\n",
            "jZFGJSt\n",
            "DLWoveSP\n",
            "LOkTtKxN\n",
            "ZQdvBplX\n",
            "foWnjNE\n",
            "GPAFfyn\n",
            "cgCBQd\n",
            "ykbMwV\n",
            "OFElXqRT\n",
            "soGviF\n",
            "gCkMHAhc\n",
            "bpNcOH\n",
            "emRHLKW\n",
            "mANzyIVO\n",
            "ErFNtvP\n",
            "CjbEKpU\n",
            "rcDmzBKP\n",
            "GANKBs\n",
            "XyVtaiUs\n",
            "gLwkGv\n",
            "XYHbFCS\n",
            "eiUuHs\n",
            "jKalzvS\n",
            "vKDoUyiZ\n",
            "MGqJwSDf\n",
            "bBEKwusI\n",
            "cielbRT\n",
            "BQrAzY\n",
            "zdaeSWD\n",
            "fRViFtp\n",
            "WioEIN\n",
            "VZuFsyI\n",
            "fCoLVcv\n",
            "BwZjIgXK\n"
          ]
        }
      ]
    },
    {
      "cell_type": "code",
      "source": [
        "for i in range(600,801):\n",
        "  flag=True\n",
        "  for j in range(2,(i//2) + 1):\n",
        "    if(i%j)==0:\n",
        "      flag=False;\n",
        "      break\n",
        "  if flag==True:\n",
        "    print(i)"
      ],
      "metadata": {
        "colab": {
          "base_uri": "https://localhost:8080/"
        },
        "id": "bbVKHKS--ys1",
        "outputId": "fefe39b8-65a2-4207-b8ed-516306023e0c"
      },
      "execution_count": null,
      "outputs": [
        {
          "output_type": "stream",
          "name": "stdout",
          "text": [
            "601\n",
            "607\n",
            "613\n",
            "617\n",
            "619\n",
            "631\n",
            "641\n",
            "643\n",
            "647\n",
            "653\n",
            "659\n",
            "661\n",
            "673\n",
            "677\n",
            "683\n",
            "691\n",
            "701\n",
            "709\n",
            "719\n",
            "727\n",
            "733\n",
            "739\n",
            "743\n",
            "751\n",
            "757\n",
            "761\n",
            "769\n",
            "773\n",
            "787\n",
            "797\n"
          ]
        }
      ]
    },
    {
      "cell_type": "code",
      "source": [
        "start=100//(9*7) + 1\n",
        "end=1000//(9*7) + 1\n",
        "for i in range(start,end):\n",
        "  print(i*7*9)"
      ],
      "metadata": {
        "colab": {
          "base_uri": "https://localhost:8080/"
        },
        "id": "hfHvKQFn_W3l",
        "outputId": "e7718162-c204-4719-9163-ba7a208b37eb"
      },
      "execution_count": null,
      "outputs": [
        {
          "output_type": "stream",
          "name": "stdout",
          "text": [
            "126\n",
            "189\n",
            "252\n",
            "315\n",
            "378\n",
            "441\n",
            "504\n",
            "567\n",
            "630\n",
            "693\n",
            "756\n",
            "819\n",
            "882\n",
            "945\n"
          ]
        }
      ]
    },
    {
      "cell_type": "markdown",
      "source": [
        "# Q5. WAP to create two lists of 10 random numbers between 10 and 30; Find\n",
        "\n",
        "(i) Common numbers in the two lists\n",
        "\n",
        "(ii) Unique numbers in both the list\n",
        "\n",
        "(iii) Minimum in both the list\n",
        "\n",
        "(iv) Maximum in both the list\n",
        "\n",
        "(v) Sum of both the lists"
      ],
      "metadata": {
        "id": "w4DAlYuAAyVN"
      }
    },
    {
      "cell_type": "code",
      "source": [
        "import random as r\n",
        "L1=r.sample(range(10,31),10)\n",
        "print(L1)\n",
        "L2=r.sample(range(10,31),10)\n",
        "print(L2)\n",
        "SL1=set(L1)\n",
        "SL2=set(L2)\n",
        "print(\"Common numbers -->\",SL1.intersection(SL2))"
      ],
      "metadata": {
        "id": "iRBJvD-VA_ES",
        "colab": {
          "base_uri": "https://localhost:8080/"
        },
        "outputId": "cfee2fa1-e088-4770-b4f2-80feda745177"
      },
      "execution_count": null,
      "outputs": [
        {
          "output_type": "stream",
          "name": "stdout",
          "text": [
            "[15, 22, 19, 18, 26, 14, 29, 13, 24, 16]\n",
            "[26, 12, 24, 13, 15, 23, 21, 28, 27, 30]\n",
            "Common numbers --> {24, 26, 13, 15}\n"
          ]
        }
      ]
    },
    {
      "cell_type": "code",
      "source": [
        "print(\"Unique numbers -->\",SL1.union(SL2) - SL1.intersection(SL2))"
      ],
      "metadata": {
        "colab": {
          "base_uri": "https://localhost:8080/"
        },
        "id": "VW0nclCXS6Mf",
        "outputId": "3aeef5ab-6c47-4842-b39d-b4b2fb53afca"
      },
      "execution_count": null,
      "outputs": [
        {
          "output_type": "stream",
          "name": "stdout",
          "text": [
            "Unique numbers --> {12, 14, 16, 18, 19, 21, 22, 23, 27, 28, 29, 30}\n"
          ]
        }
      ]
    },
    {
      "cell_type": "code",
      "source": [
        "print(\"Minimum in both -->\",min(L1 + L2))"
      ],
      "metadata": {
        "colab": {
          "base_uri": "https://localhost:8080/"
        },
        "id": "RV0_TJ7fUwSM",
        "outputId": "7f572ff2-71cf-46e0-f04e-6603d0ef85d9"
      },
      "execution_count": null,
      "outputs": [
        {
          "output_type": "stream",
          "name": "stdout",
          "text": [
            "Minimum in both --> 12\n"
          ]
        }
      ]
    },
    {
      "cell_type": "code",
      "source": [
        "print(\"Maximum in both -->\",max(L1 + L2))"
      ],
      "metadata": {
        "colab": {
          "base_uri": "https://localhost:8080/"
        },
        "id": "MTQ8REjRVErs",
        "outputId": "598a8a1a-8f85-4877-c8cc-d713d88c19ab"
      },
      "execution_count": null,
      "outputs": [
        {
          "output_type": "stream",
          "name": "stdout",
          "text": [
            "Maximum in both --> 30\n"
          ]
        }
      ]
    },
    {
      "cell_type": "code",
      "source": [
        "sum=0;\n",
        "del sum\n",
        "print(\"Sum of both -->\",sum(L1 + L2))"
      ],
      "metadata": {
        "colab": {
          "base_uri": "https://localhost:8080/"
        },
        "id": "JmBX-xgqVLNZ",
        "outputId": "b0426f75-c3b1-4885-98a7-793e4173138b"
      },
      "execution_count": null,
      "outputs": [
        {
          "output_type": "stream",
          "name": "stdout",
          "text": [
            "Sum of both --> 415\n"
          ]
        }
      ]
    },
    {
      "cell_type": "markdown",
      "source": [
        "# Q6. WAP to create a list of 100 random numbers between 100 and 900. Count and print the:\n",
        "(i) All odd numbers\n",
        "\n",
        "(ii) All even numbers\n",
        "\n",
        "(iii) All prime numbers"
      ],
      "metadata": {
        "id": "ZBsVOCPBWD7o"
      }
    },
    {
      "cell_type": "code",
      "source": [
        "import random as r\n",
        "odd=0\n",
        "l=r.sample(range(100,901),100)\n",
        "for i in l:\n",
        "  if(i%2)!=0:\n",
        "    odd+=1\n",
        "print(odd)"
      ],
      "metadata": {
        "colab": {
          "base_uri": "https://localhost:8080/"
        },
        "id": "68VzZnOiWU8o",
        "outputId": "f4ad509e-0704-40bb-e9e5-eb939dd386b4"
      },
      "execution_count": null,
      "outputs": [
        {
          "output_type": "stream",
          "name": "stdout",
          "text": [
            "52\n"
          ]
        }
      ]
    },
    {
      "cell_type": "code",
      "source": [
        "even =0\n",
        "for i in l:\n",
        "  if(i%2)==0:\n",
        "    even+=1\n",
        "print(even)"
      ],
      "metadata": {
        "colab": {
          "base_uri": "https://localhost:8080/"
        },
        "id": "8UOxN274W_Ra",
        "outputId": "e62c8f53-b2e8-4d77-f952-082182422b28"
      },
      "execution_count": null,
      "outputs": [
        {
          "output_type": "stream",
          "name": "stdout",
          "text": [
            "48\n"
          ]
        }
      ]
    },
    {
      "cell_type": "code",
      "source": [
        "prime=0\n",
        "flag=True;\n",
        "for i in range(len(l)):\n",
        "  flag=True\n",
        "  for j in range(2,(l[i]//2) + 1):\n",
        "    if(l[i]%j)==0:\n",
        "      flag=False;\n",
        "      break\n",
        "  if flag==True:\n",
        "    prime+=1\n",
        "print(prime)"
      ],
      "metadata": {
        "colab": {
          "base_uri": "https://localhost:8080/"
        },
        "id": "2mnbWKl4XUH1",
        "outputId": "739f56e7-68bc-4f9b-8652-0624ccab945b"
      },
      "execution_count": null,
      "outputs": [
        {
          "output_type": "stream",
          "name": "stdout",
          "text": [
            "18\n"
          ]
        }
      ]
    },
    {
      "cell_type": "markdown",
      "source": [
        "# Q7. D is a dictionary defined as D={1:\"One\",2:\"Two\",3:\"Three\",4:\"Four\", 5:\"Five\"}.\n",
        " WAP to read all the keys and values from dictionary and write to the file in the given below format.\n",
        "\n",
        "Key1, Value1\n",
        "\n",
        "Key2, Value2\n",
        "\n",
        "Key3, Value3"
      ],
      "metadata": {
        "id": "ZvVo77T_Xw4f"
      }
    },
    {
      "cell_type": "code",
      "source": [
        "D={1:\"One\",2:\"Two\",3:\"Three\",4:\"Four\", 5:\"Five\"}\n",
        "f=open('result.txt','w')\n",
        "for k in D:\n",
        "  f.write(str(k) + \",\" + D[k] + \"\\n\")\n",
        "f.close()\n",
        "print (\"Writing done !! \\nOpen result.txt to view the content\")"
      ],
      "metadata": {
        "colab": {
          "base_uri": "https://localhost:8080/"
        },
        "id": "mYBOCNVpYRAv",
        "outputId": "d17e23ea-8993-4b2e-ce97-a5d4b1aa1cf8"
      },
      "execution_count": null,
      "outputs": [
        {
          "output_type": "stream",
          "name": "stdout",
          "text": [
            "Writing done !! \n",
            "Open result.txt to view the content\n"
          ]
        }
      ]
    },
    {
      "cell_type": "code",
      "source": [
        "f=open('result.txt')\n",
        "for line in f:\n",
        "  print(line.strip())\n",
        "f.close()"
      ],
      "metadata": {
        "colab": {
          "base_uri": "https://localhost:8080/"
        },
        "id": "2wxGq-KRc6CC",
        "outputId": "ca85c2f9-38ac-4608-d39e-5268d9b2bf44"
      },
      "execution_count": null,
      "outputs": [
        {
          "output_type": "stream",
          "name": "stdout",
          "text": [
            "1,One\n",
            "2,Two\n",
            "3,Three\n",
            "4,Four\n",
            "5,Five\n"
          ]
        }
      ]
    },
    {
      "cell_type": "markdown",
      "source": [
        "# Q8. L is a list defined as L={\"One\",\"Two\",\"Three\",\"Four\",\"Five\"}.\n",
        "WAP to count the length of reach element from a list and write to the file in the given below format:\n",
        "\n",
        "One, 3\n",
        "\n",
        "Two, 3\n",
        "\n",
        "Four, 4"
      ],
      "metadata": {
        "id": "-Lu8H_gRdQ0w"
      }
    },
    {
      "cell_type": "code",
      "source": [
        "L=[\"One\",\"Two\",\"Three\",\"Four\",\"Five\"]\n",
        "f=open('resultQ8.txt','w')\n",
        "for k in L:\n",
        "  f.write(k + \",\" + str(len(k)) + \"\\n\")\n",
        "f.close()\n",
        "print (\"Writing done !! \\nOpen resultQ8.txt to view the content\")"
      ],
      "metadata": {
        "colab": {
          "base_uri": "https://localhost:8080/"
        },
        "id": "3J1mV1SfdeaD",
        "outputId": "281c04f2-6b5b-4d28-e082-6f41ba9ddff6"
      },
      "execution_count": null,
      "outputs": [
        {
          "output_type": "stream",
          "name": "stdout",
          "text": [
            "Writing done !! \n",
            "Open resultQ8.txt to view the content\n"
          ]
        }
      ]
    },
    {
      "cell_type": "markdown",
      "source": [
        "# Q9. Write to the file 100 random strings whose length between 10 and 15."
      ],
      "metadata": {
        "id": "JXCUu9_XeVfw"
      }
    },
    {
      "cell_type": "code",
      "source": [
        "import random as r\n",
        "import string as s\n",
        "f=open('resultQ9.txt','w')\n",
        "for i in range(100):\n",
        "  n=r.randint(10,15)\n",
        "  randomStr=\"\".join(r.sample(s.ascii_letters,n))\n",
        "  f.write(randomStr + \"\\n\")\n",
        "f.close()\n",
        "print (\"Writing done !! \\nOpen resultQ9.txt to view the content\")"
      ],
      "metadata": {
        "colab": {
          "base_uri": "https://localhost:8080/"
        },
        "id": "_3DHC5GwetFZ",
        "outputId": "231006a6-8846-40ad-846f-1f56e1030600"
      },
      "execution_count": null,
      "outputs": [
        {
          "output_type": "stream",
          "name": "stdout",
          "text": [
            "Writing done !! \n",
            "Open resultQ9.txt to view the content\n"
          ]
        }
      ]
    },
    {
      "cell_type": "markdown",
      "source": [
        "# Q10. Write to the file all prime numbers between 600 and 800."
      ],
      "metadata": {
        "id": "8GZr3lHvfmmd"
      }
    },
    {
      "cell_type": "code",
      "source": [
        "f=open('resultQ10.txt','w')\n",
        "for i in range(600,801):\n",
        "  flag=True\n",
        "  for j in range(2,(i//2) + 1):\n",
        "    if(i%j)==0:\n",
        "      flag=False;\n",
        "      break\n",
        "  if flag==True:\n",
        "    f.write(str(i)+\"\\n\")\n",
        "f.close()\n",
        "print (\"Writing done !! \\nOpen resultQ9.txt to view the content\")"
      ],
      "metadata": {
        "colab": {
          "base_uri": "https://localhost:8080/"
        },
        "id": "jHEI-b7sfqgw",
        "outputId": "970c6358-1c61-4b08-8726-54fb5b5884ba"
      },
      "execution_count": null,
      "outputs": [
        {
          "output_type": "stream",
          "name": "stdout",
          "text": [
            "Writing done !! \n",
            "Open resultQ9.txt to view the content\n"
          ]
        }
      ]
    },
    {
      "cell_type": "markdown",
      "source": [
        "# Q11. WAP to calculate the time taken by a program."
      ],
      "metadata": {
        "id": "wxM-KMEMgsN2"
      }
    },
    {
      "cell_type": "code",
      "source": [
        "import time as t\n",
        "start=t.perf_counter()\n",
        "sum=0\n",
        "for i in range(5000):\n",
        "  sum+=i\n",
        "end=t.perf_counter()\n",
        "print(\"time_taken = start_time - end_time --> \",start,\" - \",end,\" = \",end-start)"
      ],
      "metadata": {
        "colab": {
          "base_uri": "https://localhost:8080/"
        },
        "id": "XOUwft9-gvMM",
        "outputId": "90690158-20a3-45fb-9063-1e8baa7f9ca8"
      },
      "execution_count": null,
      "outputs": [
        {
          "output_type": "stream",
          "name": "stdout",
          "text": [
            "time_taken = start_time - end_time -->  15520.860329967  -  15520.861448156  =  0.0011181890004081652\n"
          ]
        }
      ]
    },
    {
      "cell_type": "markdown",
      "source": [
        "# Q12. WAP to sort following number of elements in a list, calculate time taken and plot the graph.\n",
        "Number of elements in list Time Taken\n",
        "\n",
        "5k T1\n",
        "\n",
        "10k T2\n",
        "\n",
        "15k T3\n",
        "\n",
        "20k T4\n",
        "\n",
        "25k T5"
      ],
      "metadata": {
        "id": "WQjeSRtNkCiP"
      }
    },
    {
      "cell_type": "code",
      "source": [
        "import string as s\n",
        "import random as r\n",
        "import time as t\n",
        "import matplotlib.pyplot as plt\n",
        "x=[]\n",
        "y=[]\n",
        "for i in range(5000,25001,5000):\n",
        "  final=[]\n",
        "  for j in range(i):\n",
        "    L=\"\".join(r.sample(s.digits,5))\n",
        "    final.append(int(L))\n",
        "  start=t.perf_counter()\n",
        "  final.sort()\n",
        "  end=t.perf_counter()\n",
        "  x.append(i)\n",
        "  y.append(end-start)\n",
        "plt.plot(x,y)\n",
        "plt.xlabel('No of numbers(0-99999)')\n",
        "plt.ylabel('Time taken to sort(in seconds)')"
      ],
      "metadata": {
        "colab": {
          "base_uri": "https://localhost:8080/",
          "height": 466
        },
        "id": "KOu2S3KCkEJF",
        "outputId": "a4d0d38f-34c1-47d2-dcaf-28d8a117c45f"
      },
      "execution_count": null,
      "outputs": [
        {
          "output_type": "execute_result",
          "data": {
            "text/plain": [
              "Text(0, 0.5, 'Time taken to sort(in seconds)')"
            ]
          },
          "metadata": {},
          "execution_count": 129
        },
        {
          "output_type": "display_data",
          "data": {
            "text/plain": [
              "<Figure size 640x480 with 1 Axes>"
            ],
            "image/png": "[encoded data removed]"
          },
          "metadata": {}
        }
      ]
    },
    {
      "cell_type": "markdown",
      "source": [
        "# Q13. WAP to create a dictionary of student marks in five subjects and you have to find the student having maximum and minimum average marks."
      ],
      "metadata": {
        "id": "6UU9O50c16fS"
      }
    },
    {
      "cell_type": "code",
      "source": [
        "import string as s\n",
        "import random as r\n",
        "D={}\n",
        "for i in range(10):\n",
        "  L=[]\n",
        "  for j in range(5):\n",
        "    L.append(r.randint(0,100))\n",
        "  D[i+1]=L\n",
        "print(D)\n",
        "avg=[]\n",
        "sum=0\n",
        "del sum\n",
        "for i in range(10):\n",
        "  avg.append(sum(D[i+1])/5)\n",
        "mini=0\n",
        "maxi=0\n",
        "print(avg)\n",
        "for i in range(1,10):\n",
        "  if(avg[mini]>avg[i]):\n",
        "    mini=i\n",
        "  if(avg[maxi]<avg[i]):\n",
        "    maxi=i\n",
        "print(\"maximum average marks are of\", maxi+1,\"th student\")\n",
        "print(\"minimum average marks are of\", mini+1,\"th student\")"
      ],
      "metadata": {
        "colab": {
          "base_uri": "https://localhost:8080/"
        },
        "id": "rKfhIMmE2CRr",
        "outputId": "a3dff476-973b-4ee1-81de-7048817c5f59"
      },
      "execution_count": null,
      "outputs": [
        {
          "output_type": "stream",
          "name": "stdout",
          "text": [
            "{1: [82, 74, 98, 74, 27], 2: [95, 87, 77, 28, 100], 3: [79, 64, 92, 50, 89], 4: [12, 73, 16, 14, 39], 5: [5, 26, 96, 46, 17], 6: [43, 20, 28, 85, 88], 7: [34, 92, 25, 79, 8], 8: [79, 15, 90, 37, 82], 9: [66, 15, 73, 86, 87], 10: [11, 50, 85, 38, 93]}\n",
            "[71.0, 77.4, 74.8, 30.8, 38.0, 52.8, 47.6, 60.6, 65.4, 55.4]\n",
            "maximum average marks are of 2 th student\n",
            "minimum average marks are of 4 th student\n"
          ]
        }
      ]
    }
  ],
  "metadata": {
    "colab": {
      "provenance": [],
      "collapsed_sections": [
        "o-3lSxBWnbBN",
        "sN4F_Cu7wVGJ",
        "x9gM6Gjgz-0P",
        "Vq2eHS753-R4",
        "w4DAlYuAAyVN",
        "ZBsVOCPBWD7o",
        "ZvVo77T_Xw4f",
        "-Lu8H_gRdQ0w",
        "JXCUu9_XeVfw",
        "8GZr3lHvfmmd",
        "wxM-KMEMgsN2",
        "WQjeSRtNkCiP",
        "6UU9O50c16fS"
      ],
      "authorship_tag": "ABX9TyPgDVdapU0P1fq6TxDOreWP",
      "include_colab_link": true
    },
    "kernelspec": {
      "display_name": "Python 3",
      "name": "python3"
    },
    "language_info": {
      "name": "python"
    }
  },
  "nbformat": 4,
  "nbformat_minor": 0
}